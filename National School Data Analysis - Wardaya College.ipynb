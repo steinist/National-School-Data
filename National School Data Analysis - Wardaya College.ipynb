{
 "cells": [
  {
   "cell_type": "markdown",
   "metadata": {},
   "source": [
    "# National School Data Analysis\n",
    "###### Group B: Steven and Joshua\n",
    "\n",
    "\n",
    "### Introduction\n",
    "The level of education has been one of the most essential factor in the development of the country. This report therefore focus on analyzing the state of Indonesian's education system in each region within 5-10 years period and discovering the element for a school to be success. The objective of these findings is going to be valuable for schools and other education department to grow which further turns Indonesia into an advance country.\n",
    "\n",
    "The dataset used to explore was accessed through the Indonesian ministry of education and culture website, which can be access through the following link:\n",
    "\n",
    "Dataset1: [https://dapo.dikdasmen.kemdikbud.go.id/sp](https://dapo.dikdasmen.kemdikbud.go.id/sp)\n",
    "\n",
    "Dataset2: [http://statistik.data.kemdikbud.go.id/](http://statistik.data.kemdikbud.go.id/)\n",
    "\n",
    "\n",
    "The main questions this paper aims to answer are:\n",
    "1. What is the state of Indonesian education within the past 5-10 years nationally.\n",
    "\n",
    "2. How large is the discrepancy/inequality in Indonesian education.\n",
    "\n",
    "3. What is the parameters that contribute the most to a school success. "
   ]
  },
  {
   "cell_type": "code",
   "execution_count": 16,
   "metadata": {},
   "outputs": [],
   "source": [
    "import pandas as pd\n",
    "import numpy as np\n",
    "from sklearn.linear_model import LinearRegression\n",
    "import matplotlib.pyplot as plt"
   ]
  },
  {
   "cell_type": "markdown",
   "metadata": {},
   "source": [
    "## Question 1: What is the state of Indonesian education whithin the past 5-10 years nationally"
   ]
  },
  {
   "cell_type": "markdown",
   "metadata": {},
   "source": [
    "### The Number of School"
   ]
  },
  {
   "cell_type": "code",
   "execution_count": 17,
   "metadata": {},
   "outputs": [],
   "source": [
    "#Reading all the dataset and append it on df array\n",
    "\n",
    "df = []\n",
    "for i in range(1,10):\n",
    "    names = \"Desktop/dataset/data_sekolah/df\" + str(i) + \".csv\"\n",
    "    df.append(pd.read_csv(names, sep=\";\", header=[0,1], index_col=0, skiprows=1))\n",
    "    arrays = [['Wilayah', 'Total', 'Total', 'Total', 'SD', 'SD', 'SD', 'SMP', 'SMP', 'SMP', 'SMA', 'SMA', 'SMA', 'SMK', 'SMK', 'SMK', 'SLB', 'SLB', 'SLB'], ['Wilayah', 'Jml', 'N', 'S', 'Jml', 'N', 'S', 'Jml', 'N', 'S', 'Jml', 'N', 'S', 'Jml', 'N', 'S', 'Jml', 'N', 'S']]\n",
    "    df[i-1].columns = pd.MultiIndex.from_arrays(arrays)"
   ]
  },
  {
   "cell_type": "code",
   "execution_count": 18,
   "metadata": {
    "scrolled": true
   },
   "outputs": [],
   "source": [
    "#Slice the total number of school from all element of df array\n",
    "Tot_Sekolah = []\n",
    "ind = []\n",
    "tahun = 2015\n",
    "sem = [\"Genap\", \"Ganjil\"]\n",
    "\n",
    "\n",
    "for i in range(8, -1, -1):\n",
    "    Tot_Sekolah.append(df[i][\"Total\"][\"Jml\"].loc[\"Total\"])\n",
    "    semester = \"Semester \" + str(tahun) + \"/\" + str(tahun+1) + \" \" + sem[i%2]\n",
    "    ind.append(semester)\n",
    "    if sem[i%2] == sem[0]:\n",
    "        tahun += 1\n",
    "\n",
    "\n",
    "numSchool = pd.DataFrame(data=Tot_Sekolah, index=ind, columns = [\"Jumlah Sekolah\"])"
   ]
  },
  {
   "cell_type": "code",
   "execution_count": 19,
   "metadata": {},
   "outputs": [],
   "source": [
    "#Applying Linear Regression\n",
    "Y = numSchool.reset_index().iloc[:,1].values.reshape(-1, 1)\n",
    "X = np.array(list(range(1,len(numSchool)+1))).reshape(-1,1)\n",
    "\n",
    "linear_regressor = LinearRegression()\n",
    "linear_regressor.fit(X, Y)\n",
    "Y_pred = linear_regressor.predict(X)"
   ]
  },
  {
   "cell_type": "code",
   "execution_count": 20,
   "metadata": {},
   "outputs": [
    {
     "data": {
      "image/png": "[encoded data removed]",
      "text/plain": [
       "<Figure size 432x288 with 1 Axes>"
      ]
     },
     "metadata": {
      "needs_background": "light"
     },
     "output_type": "display_data"
    }
   ],
   "source": [
    "#Plotting Linear Regression\n",
    "plt.scatter(X,Y)\n",
    "plt.plot(X, Y_pred, color = 'red')\n",
    "\n",
    "plt.show()"
   ]
  },
  {
   "cell_type": "code",
   "execution_count": 21,
   "metadata": {},
   "outputs": [
    {
     "name": "stdout",
     "output_type": "stream",
     "text": [
      "coefficient of determination: 0.8683782753112147\n",
      "intercept: [214.53691667]\n",
      "slope: [[0.73401667]]\n"
     ]
    }
   ],
   "source": [
    "#Print results\n",
    "print('coefficient of determination:', linear_regressor.score(X,Y))\n",
    "print('intercept:', linear_regressor.intercept_)\n",
    "print('slope:', linear_regressor.coef_)"
   ]
  },
  {
   "cell_type": "markdown",
   "metadata": {},
   "source": [
    "Coefficient of determination indicate how well a statistical model fits the data. For this data the R^2 approaching to 1 which mean the data is linear fit and we can use linear regression.\n",
    "\n",
    "After plotting the linear regression, we achieve a fitted model that can be written as Y = alpha + beta X\n",
    "where alpha is 214.5 (intercept) and beta is 0.73 (slope)"
   ]
  },
  {
   "cell_type": "markdown",
   "metadata": {},
   "source": [
    "### The number of Student per grade (Jenjang)"
   ]
  },
  {
   "cell_type": "code",
   "execution_count": 22,
   "metadata": {},
   "outputs": [],
   "source": [
    "#Reading all the dataset (murid & guru) and append it to df array\n",
    "\n",
    "df_m = []\n",
    "df_g = []\n",
    "for i in range(1,10):\n",
    "    names_m = \"Desktop/dataset/data_peserta_didik/df\" + str(i) + \".csv\"\n",
    "    df_m.append(pd.read_csv(names_m, sep=\";\", header=[0,1], index_col=0, skiprows=1))\n",
    "    \n",
    "    names_g = \"Desktop/dataset/data_guru/df\" + str(i) + \".csv\"\n",
    "    df_g.append(pd.read_csv(names_g, sep=\";\", header=[0,1], index_col=0, skiprows=1))\n",
    "    \n",
    "    arrays = [['Wilayah', 'Total', 'Total', 'Total', 'SD', 'SD', 'SD', 'SMP', 'SMP', 'SMP', 'SMA', 'SMA', 'SMA', 'SMK', 'SMK', 'SMK', 'SLB', 'SLB', 'SLB'], ['Wilayah', 'Jml', 'N', 'S', 'Jml', 'N', 'S', 'Jml', 'N', 'S', 'Jml', 'N', 'S', 'Jml', 'N', 'S', 'Jml', 'N', 'S']]\n",
    "    df_m[i-1].columns = pd.MultiIndex.from_arrays(arrays)\n",
    "    df_g[i-1].columns = pd.MultiIndex.from_arrays(arrays)"
   ]
  },
  {
   "cell_type": "code",
   "execution_count": 74,
   "metadata": {},
   "outputs": [
    {
     "data": {
      "text/html": [
       "<div>\n",
       "<style scoped>\n",
       "    .dataframe tbody tr th:only-of-type {\n",
       "        vertical-align: middle;\n",
       "    }\n",
       "\n",
       "    .dataframe tbody tr th {\n",
       "        vertical-align: top;\n",
       "    }\n",
       "\n",
       "    .dataframe thead th {\n",
       "        text-align: right;\n",
       "    }\n",
       "</style>\n",
       "<table border=\"1\" class=\"dataframe\">\n",
       "  <thead>\n",
       "    <tr style=\"text-align: right;\">\n",
       "      <th></th>\n",
       "      <th>Jml Murid</th>\n",
       "      <th>Jml Guru</th>\n",
       "      <th>Jml Murid per Guru</th>\n",
       "    </tr>\n",
       "  </thead>\n",
       "  <tbody>\n",
       "    <tr>\n",
       "      <th>Semester 2015/2016 Genap</th>\n",
       "      <td>44631066</td>\n",
       "      <td>2912170</td>\n",
       "      <td>15.325708</td>\n",
       "    </tr>\n",
       "    <tr>\n",
       "      <th>Semester 2016/2017 Ganjil</th>\n",
       "      <td>45318320</td>\n",
       "      <td>2946136</td>\n",
       "      <td>15.382291</td>\n",
       "    </tr>\n",
       "    <tr>\n",
       "      <th>Semester 2016/2017 Genap</th>\n",
       "      <td>45134357</td>\n",
       "      <td>2933290</td>\n",
       "      <td>15.386940</td>\n",
       "    </tr>\n",
       "    <tr>\n",
       "      <th>Semester 2017/2018 Ganjil</th>\n",
       "      <td>45388330</td>\n",
       "      <td>2748473</td>\n",
       "      <td>16.514017</td>\n",
       "    </tr>\n",
       "    <tr>\n",
       "      <th>Semester 2017/2018 Genap</th>\n",
       "      <td>45209158</td>\n",
       "      <td>2753425</td>\n",
       "      <td>16.419244</td>\n",
       "    </tr>\n",
       "    <tr>\n",
       "      <th>Semester 2018/2019 Ganjil</th>\n",
       "      <td>45037323</td>\n",
       "      <td>2755020</td>\n",
       "      <td>16.347367</td>\n",
       "    </tr>\n",
       "    <tr>\n",
       "      <th>Semester 2018/2019 Genap</th>\n",
       "      <td>44831625</td>\n",
       "      <td>2759324</td>\n",
       "      <td>16.247322</td>\n",
       "    </tr>\n",
       "    <tr>\n",
       "      <th>Semester 2019/2020 Ganjil</th>\n",
       "      <td>44761040</td>\n",
       "      <td>2732340</td>\n",
       "      <td>16.381944</td>\n",
       "    </tr>\n",
       "    <tr>\n",
       "      <th>Semester 2019/2020 Genap</th>\n",
       "      <td>44621547</td>\n",
       "      <td>2720778</td>\n",
       "      <td>16.400290</td>\n",
       "    </tr>\n",
       "  </tbody>\n",
       "</table>\n",
       "</div>"
      ],
      "text/plain": [
       "                           Jml Murid  Jml Guru  Jml Murid per Guru\n",
       "Semester 2015/2016 Genap    44631066   2912170           15.325708\n",
       "Semester 2016/2017 Ganjil   45318320   2946136           15.382291\n",
       "Semester 2016/2017 Genap    45134357   2933290           15.386940\n",
       "Semester 2017/2018 Ganjil   45388330   2748473           16.514017\n",
       "Semester 2017/2018 Genap    45209158   2753425           16.419244\n",
       "Semester 2018/2019 Ganjil   45037323   2755020           16.347367\n",
       "Semester 2018/2019 Genap    44831625   2759324           16.247322\n",
       "Semester 2019/2020 Ganjil   44761040   2732340           16.381944\n",
       "Semester 2019/2020 Genap    44621547   2720778           16.400290"
      ]
     },
     "execution_count": 74,
     "metadata": {},
     "output_type": "execute_result"
    }
   ],
   "source": [
    "#Slice the total number of student and teacher from all element of df array\n",
    "Tot_m = []\n",
    "Tot_g = []\n",
    "ind = []\n",
    "tahun = 2015\n",
    "sem = [\"Genap\", \"Ganjil\"]\n",
    "\n",
    "\n",
    "for i in range(8, -1, -1):\n",
    "    Tot_m.append(df_m[i][\"Total\"][\"Jml\"].loc[\"Total\"])\n",
    "    Tot_g.append(df_g[i][\"Total\"][\"Jml\"].loc[\"Total\"])\n",
    "    \n",
    "    semester = \"Semester \" + str(tahun) + \"/\" + str(tahun+1) + \" \" + sem[i%2]\n",
    "    ind.append(semester)\n",
    "    if sem[i%2] == sem[0]:\n",
    "        tahun += 1\n",
    "        \n",
    "ratio_mg = {\"Jml Murid\":Tot_m, \"Jml Guru\":Tot_g}\n",
    "ratio_mg = pd.DataFrame(ratio_mg, index=ind) \n",
    "\n",
    "\n",
    "#Type conversion from string to int\n",
    "repl_list = {'€':'$', ',':'.', r'\\.': ''}\n",
    "ratio_mg[\"Jml Murid\"].replace(repl_list, regex=True, inplace=True)\n",
    "ratio_mg[\"Jml Guru\"].replace(repl_list, regex=True, inplace=True)\n",
    "\n",
    "ratio_mg[\"Jml Murid\"] = ratio_mg[\"Jml Murid\"].astype(int)\n",
    "ratio_mg[\"Jml Guru\"] = ratio_mg[\"Jml Guru\"].astype(int)\n",
    "#ratio_mg.dtypes\n",
    "\n",
    "ratio_mg[\"Jml Murid per Guru\"] = ratio_mg[\"Jml Murid\"]/ratio_mg[\"Jml Guru\"]\n",
    "ratio_mg"
   ]
  },
  {
   "cell_type": "code",
   "execution_count": 75,
   "metadata": {},
   "outputs": [],
   "source": [
    "#Applying Linear Regression\n",
    "Y = ratio_mg.reset_index().iloc[:,3].values.reshape(-1, 1)\n",
    "X = np.array(list(range(1,len(ratio_mg)+1))).reshape(-1,1)\n",
    "\n",
    "linear_regressor = LinearRegression()\n",
    "linear_regressor.fit(X, Y)\n",
    "Y_pred = linear_regressor.predict(X)"
   ]
  },
  {
   "cell_type": "code",
   "execution_count": 108,
   "metadata": {},
   "outputs": [
    {
     "data": {
      "text/plain": [
       "2720778"
      ]
     },
     "execution_count": 108,
     "metadata": {},
     "output_type": "execute_result"
    }
   ],
   "source": [
    "min(ratio_mg[\"Jml Guru\"])"
   ]
  },
  {
   "cell_type": "code",
   "execution_count": 104,
   "metadata": {},
   "outputs": [
    {
     "data": {
      "text/plain": [
       "766783"
      ]
     },
     "execution_count": 104,
     "metadata": {},
     "output_type": "execute_result"
    }
   ],
   "source": [
    "max(ratio_mg[\"Jml Murid\"]) - min(ratio_mg[\"Jml Murid\"])"
   ]
  },
  {
   "cell_type": "code",
   "execution_count": 105,
   "metadata": {},
   "outputs": [
    {
     "data": {
      "text/plain": [
       "225358"
      ]
     },
     "execution_count": 105,
     "metadata": {},
     "output_type": "execute_result"
    }
   ],
   "source": [
    "max(ratio_mg[\"Jml Guru\"]) - min(ratio_mg[\"Jml Guru\"])"
   ]
  },
  {
   "cell_type": "code",
   "execution_count": 113,
   "metadata": {},
   "outputs": [
    {
     "data": {
      "image/png": "[encoded data removed]",
      "text/plain": [
       "<Figure size 432x288 with 2 Axes>"
      ]
     },
     "metadata": {
      "needs_background": "light"
     },
     "output_type": "display_data"
    }
   ],
   "source": [
    "plt.subplot(2,1,1)\n",
    "plt.plot(range(1,10), ratio_mg[\"Jml Murid\"])\n",
    "#plt.ylim(44600000, 45900000)\n",
    "plt.subplot(2,1,2)\n",
    "plt.plot(range(1,10), ratio_mg[\"Jml Guru\"])\n",
    "#plt.ylim(2700000,4000000)\n",
    "plt.show()"
   ]
  },
  {
   "cell_type": "code",
   "execution_count": 94,
   "metadata": {
    "scrolled": true
   },
   "outputs": [
    {
     "data": {
      "image/png": "[encoded data removed]",
      "text/plain": [
       "<Figure size 432x288 with 1 Axes>"
      ]
     },
     "metadata": {
      "needs_background": "light"
     },
     "output_type": "display_data"
    }
   ],
   "source": [
    "#Plotting Linear Regression\n",
    "plt.plot(X,Y)\n",
    "plt.plot(X, Y_pred, color = 'red')\n",
    "plt.ylim(10,20)\n",
    "plt.show()"
   ]
  },
  {
   "cell_type": "code",
   "execution_count": 92,
   "metadata": {},
   "outputs": [
    {
     "name": "stdout",
     "output_type": "stream",
     "text": [
      "coefficient of determination: 0.6154252328777234\n",
      "intercept: [15.30739678]\n",
      "slope: [[0.14752335]]\n"
     ]
    }
   ],
   "source": [
    "#Print results\n",
    "print('coefficient of determination:', linear_regressor.score(X,Y))\n",
    "print('intercept:', linear_regressor.intercept_)\n",
    "print('slope:', linear_regressor.coef_)"
   ]
  },
  {
   "cell_type": "code",
   "execution_count": null,
   "metadata": {},
   "outputs": [],
   "source": []
  },
  {
   "cell_type": "markdown",
   "metadata": {},
   "source": [
    "## Question 2: How large is the discrepancy/inequality in Indonesian education"
   ]
  },
  {
   "cell_type": "code",
   "execution_count": null,
   "metadata": {},
   "outputs": [],
   "source": []
  }
 ],
 "metadata": {
  "kernelspec": {
   "display_name": "Python 3",
   "language": "python",
   "name": "python3"
  },
  "language_info": {
   "codemirror_mode": {
    "name": "ipython",
    "version": 3
   },
   "file_extension": ".py",
   "mimetype": "text/x-python",
   "name": "python",
   "nbconvert_exporter": "python",
   "pygments_lexer": "ipython3",
   "version": "3.7.7"
  }
 },
 "nbformat": 4,
 "nbformat_minor": 2
}
